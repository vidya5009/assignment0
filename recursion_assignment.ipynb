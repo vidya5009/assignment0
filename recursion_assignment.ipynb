{
  "nbformat": 4,
  "nbformat_minor": 0,
  "metadata": {
    "colab": {
      "name": "recursion assignment.ipynb",
      "provenance": [],
      "authorship_tag": "ABX9TyN3LxjMbGmfEPRDkID9+Gnw",
      "include_colab_link": true
    },
    "kernelspec": {
      "name": "python3",
      "display_name": "Python 3"
    },
    "language_info": {
      "name": "python"
    }
  },
  "cells": [
    {
      "cell_type": "markdown",
      "metadata": {
        "id": "view-in-github",
        "colab_type": "text"
      },
      "source": [
        "<a href=\"https://colab.research.google.com/github/vidya5009/assignment0/blob/main/recursion_assignment.ipynb\" target=\"_parent\"><img src=\"https://colab.research.google.com/assets/colab-badge.svg\" alt=\"Open In Colab\"/></a>"
      ]
    },
    {
      "cell_type": "code",
      "metadata": {
        "colab": {
          "base_uri": "https://localhost:8080/"
        },
        "id": "mfAzsSQ67Viu",
        "outputId": "dc5fed9f-4ae2-4b95-83ab-f464616fbb98"
      },
      "source": [
        "ar=[12,25,13,23,34,67]\n",
        "sar=sorted(ar)\n",
        "print(sar)\n",
        "low=0\n",
        "high=len(ar)-1\n",
        "key=int(input())\n",
        "if low>high:\n",
        "    print(\"This is not a list\")\n",
        "flag=0\n",
        "while(low<=high):\n",
        "    mid=(low+high)//2\n",
        "    if key==sar[mid]:\n",
        "        flag=1\n",
        "        break\n",
        "    elif key>sar[mid]:\n",
        "        low=mid+1\n",
        "    elif key<sar[mid]:\n",
        "        high=mid-1\n",
        "if flag==1:\n",
        "    print(\"The element\",key,\"is found at position\",mid+1)\n",
        "else:\n",
        "    print(\"Element is not found\")"
      ],
      "execution_count": 1,
      "outputs": [
        {
          "output_type": "stream",
          "text": [
            "[12, 13, 23, 25, 34, 67]\n",
            "34\n",
            "The element 34 is found at position 5\n"
          ],
          "name": "stdout"
        }
      ]
    },
    {
      "cell_type": "code",
      "metadata": {
        "colab": {
          "base_uri": "https://localhost:8080/"
        },
        "id": "VUh97GTY7iiT",
        "outputId": "43ded89d-4d87-44b8-da86-b3a993b65804"
      },
      "source": [
        "def draw_line(tick_length, tick_label=''):\n",
        "    line = '-'*tick_length\n",
        "    if tick_label:\n",
        "        line += ' ' + tick_label\n",
        "    print(line)\n",
        "\n",
        "\n",
        "def draw_interval(center_length):\n",
        "    if center_length > 0:                   \n",
        "        draw_interval(center_length - 1)    \n",
        "        draw_line(center_length)        \n",
        "        draw_interval(center_length - 1)    \n",
        "\n",
        "def draw_ruler(num_inches, major_length):\n",
        "    draw_line(major_length, '0')            \n",
        "    for j in range(1, 1 + num_inches):\n",
        "        draw_interval(major_length - 1)     \n",
        "        draw_line(major_length, str(j))     \n",
        "\n",
        "\n",
        "if __name__ == '__main__':\n",
        "    draw_ruler(3,2)\n"
      ],
      "execution_count": 3,
      "outputs": [
        {
          "output_type": "stream",
          "text": [
            "-- 0\n",
            "-\n",
            "-- 1\n",
            "-\n",
            "-- 2\n",
            "-\n",
            "-- 3\n"
          ],
          "name": "stdout"
        }
      ]
    }
  ]
}